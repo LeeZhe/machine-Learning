{
 "cells": [
  {
   "cell_type": "markdown",
   "metadata": {},
   "source": [
    "### 数据预处理 "
   ]
  },
  {
   "cell_type": "code",
   "execution_count": 2,
   "metadata": {},
   "outputs": [],
   "source": [
    "import os\n",
    "import shutil\n",
    "\n",
    "TRAIN_PATH = './train'\n",
    "TEMP_PATH_CAT = './train_temp/cat/'\n",
    "TEMP_PATH_DOG = './train_temp/dog/'\n",
    "\n",
    "train_files = os.listdir('train')\n",
    "cat_file_names = filter(lambda x:'cat' in x, train_files)\n",
    "dog_file_names = filter(lambda x:'dog' in x, train_files)"
   ]
  },
  {
   "cell_type": "code",
   "execution_count": 3,
   "metadata": {},
   "outputs": [],
   "source": [
    "def file_operation(file_path):\n",
    "    if os.path.exists(file_path):\n",
    "        shutil.rmtree(file_path)\n",
    "    os.makedirs(file_path)\n",
    "\n",
    "file_operation(TEMP_PATH_CAT)\n",
    "file_operation(TEMP_PATH_DOG)"
   ]
  },
  {
   "cell_type": "code",
   "execution_count": 4,
   "metadata": {},
   "outputs": [],
   "source": [
    "for filename in cat_file_names:\n",
    "    os.symlink('../.{}/'.format(TRAIN_PATH)+filename, TEMP_PATH_CAT+filename)\n",
    "\n",
    "for filename in dog_file_names:\n",
    "    os.symlink('../.{}/'.format(TRAIN_PATH)+filename, TEMP_PATH_CAT+filename)"
   ]
  },
  {
   "cell_type": "markdown",
   "metadata": {},
   "source": [
    "### 载入数据集"
   ]
  },
  {
   "cell_type": "code",
   "execution_count": 6,
   "metadata": {},
   "outputs": [
    {
     "name": "stderr",
     "output_type": "stream",
     "text": [
      "100%|██████████| 12500/12500 [01:25<00:00, 147.04it/s]\n"
     ]
    }
   ],
   "source": [
    "import h5py, math\n",
    "from keras.layers import Input, Lambda\n",
    "from keras.applications import ResNet50\n",
    "import numpy as np\n",
    "from tqdm import tqdm\n",
    "import cv2\n",
    "\n",
    "np.random.seed(2018)\n",
    "n = 12500\n",
    "X = np.zeros((2 * n, 224, 224, 3), dtype=np.uint8)\n",
    "y = np.zeros((2 * n, 1), dtype=np.uint8)\n",
    "for i in tqdm(range(n)):\n",
    "    X[i] = cv2.resize(cv2.imread('{}/cat.{}.jpg'.format(TRAIN_PATH, i)), (224, 224))\n",
    "    X[i + n] = cv2.resize(cv2.imread('{}/dog.{}.jpg'.format(TRAIN_PATH, i)), (224, 224))\n",
    "y[n:] = 1"
   ]
  },
  {
   "cell_type": "code",
   "execution_count": null,
   "metadata": {},
   "outputs": [],
   "source": []
  }
 ],
 "metadata": {
  "kernelspec": {
   "display_name": "Python 3",
   "language": "python",
   "name": "python3"
  },
  "language_info": {
   "codemirror_mode": {
    "name": "ipython",
    "version": 3
   },
   "file_extension": ".py",
   "mimetype": "text/x-python",
   "name": "python",
   "nbconvert_exporter": "python",
   "pygments_lexer": "ipython3",
   "version": "3.6.4"
  }
 },
 "nbformat": 4,
 "nbformat_minor": 2
}
